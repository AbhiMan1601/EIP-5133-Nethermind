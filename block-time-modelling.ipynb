{
 "cells": [
  {
   "cell_type": "code",
   "execution_count": 1,
   "id": "9ae9da98",
   "metadata": {
    "_cell_guid": "b1076dfc-b9ad-4769-8c92-a6c4dae69d19",
    "_uuid": "8f2839f25d086af736a60e9eeb907d3b93b6e0e5",
    "execution": {
     "iopub.execute_input": "2022-06-21T11:43:29.153309Z",
     "iopub.status.busy": "2022-06-21T11:43:29.152320Z",
     "iopub.status.idle": "2022-06-21T11:43:29.175124Z",
     "shell.execute_reply": "2022-06-21T11:43:29.173715Z"
    },
    "papermill": {
     "duration": 0.039955,
     "end_time": "2022-06-21T11:43:29.177621",
     "exception": false,
     "start_time": "2022-06-21T11:43:29.137666",
     "status": "completed"
    },
    "tags": []
   },
   "outputs": [
    {
     "name": "stdout",
     "output_type": "stream",
     "text": [
      "/kaggle/input/block-data/Block_data.csv\n"
     ]
    }
   ],
   "source": [
    "# This Python 3 environment comes with many helpful analytics libraries installed\n",
    "# It is defined by the kaggle/python Docker image: https://github.com/kaggle/docker-python\n",
    "# For example, here's several helpful packages to load\n",
    "\n",
    "import numpy as np # linear algebra\n",
    "import pandas as pd # data processing, CSV file I/O (e.g. pd.read_csv)\n",
    "\n",
    "# Input data files are available in the read-only \"../input/\" directory\n",
    "# For example, running this (by clicking run or pressing Shift+Enter) will list all files under the input directory\n",
    "\n",
    "import os\n",
    "for dirname, _, filenames in os.walk('/kaggle/input'):\n",
    "    for filename in filenames:\n",
    "        print(os.path.join(dirname, filename))\n",
    "\n",
    "# You can write up to 20GB to the current directory (/kaggle/working/) that gets preserved as output when you create a version using \"Save & Run All\" \n",
    "# You can also write temporary files to /kaggle/temp/, but they won't be saved outside of the current session"
   ]
  },
  {
   "cell_type": "code",
   "execution_count": 2,
   "id": "a7a37762",
   "metadata": {
    "execution": {
     "iopub.execute_input": "2022-06-21T11:43:29.201212Z",
     "iopub.status.busy": "2022-06-21T11:43:29.200550Z",
     "iopub.status.idle": "2022-06-21T11:43:29.241020Z",
     "shell.execute_reply": "2022-06-21T11:43:29.240078Z"
    },
    "papermill": {
     "duration": 0.054397,
     "end_time": "2022-06-21T11:43:29.242872",
     "exception": false,
     "start_time": "2022-06-21T11:43:29.188475",
     "status": "completed"
    },
    "tags": []
   },
   "outputs": [
    {
     "data": {
      "text/html": [
       "<div>\n",
       "<style scoped>\n",
       "    .dataframe tbody tr th:only-of-type {\n",
       "        vertical-align: middle;\n",
       "    }\n",
       "\n",
       "    .dataframe tbody tr th {\n",
       "        vertical-align: top;\n",
       "    }\n",
       "\n",
       "    .dataframe thead th {\n",
       "        text-align: right;\n",
       "    }\n",
       "</style>\n",
       "<table border=\"1\" class=\"dataframe\">\n",
       "  <thead>\n",
       "    <tr style=\"text-align: right;\">\n",
       "      <th></th>\n",
       "      <th>Date(UTC)</th>\n",
       "      <th>UnixTimeStamp</th>\n",
       "      <th>Block_Time_Value</th>\n",
       "      <th>Net_Hash_Value</th>\n",
       "      <th>Difficulty_Value</th>\n",
       "    </tr>\n",
       "  </thead>\n",
       "  <tbody>\n",
       "    <tr>\n",
       "      <th>0</th>\n",
       "      <td>7/30/2015</td>\n",
       "      <td>1438214400</td>\n",
       "      <td>4.46</td>\n",
       "      <td>11.5297</td>\n",
       "      <td>0.121</td>\n",
       "    </tr>\n",
       "    <tr>\n",
       "      <th>1</th>\n",
       "      <td>7/31/2015</td>\n",
       "      <td>1438300800</td>\n",
       "      <td>12.58</td>\n",
       "      <td>51.4594</td>\n",
       "      <td>0.603</td>\n",
       "    </tr>\n",
       "    <tr>\n",
       "      <th>2</th>\n",
       "      <td>08-01-2015</td>\n",
       "      <td>1438387200</td>\n",
       "      <td>16.34</td>\n",
       "      <td>57.7845</td>\n",
       "      <td>0.887</td>\n",
       "    </tr>\n",
       "    <tr>\n",
       "      <th>3</th>\n",
       "      <td>08-02-2015</td>\n",
       "      <td>1438473600</td>\n",
       "      <td>16.12</td>\n",
       "      <td>67.9224</td>\n",
       "      <td>1.020</td>\n",
       "    </tr>\n",
       "    <tr>\n",
       "      <th>4</th>\n",
       "      <td>08-03-2015</td>\n",
       "      <td>1438560000</td>\n",
       "      <td>16.37</td>\n",
       "      <td>74.5737</td>\n",
       "      <td>1.126</td>\n",
       "    </tr>\n",
       "  </tbody>\n",
       "</table>\n",
       "</div>"
      ],
      "text/plain": [
       "    Date(UTC)  UnixTimeStamp  Block_Time_Value  Net_Hash_Value  \\\n",
       "0   7/30/2015     1438214400              4.46         11.5297   \n",
       "1   7/31/2015     1438300800             12.58         51.4594   \n",
       "2  08-01-2015     1438387200             16.34         57.7845   \n",
       "3  08-02-2015     1438473600             16.12         67.9224   \n",
       "4  08-03-2015     1438560000             16.37         74.5737   \n",
       "\n",
       "   Difficulty_Value  \n",
       "0             0.121  \n",
       "1             0.603  \n",
       "2             0.887  \n",
       "3             1.020  \n",
       "4             1.126  "
      ]
     },
     "execution_count": 2,
     "metadata": {},
     "output_type": "execute_result"
    }
   ],
   "source": [
    "data = pd.read_csv(\"/kaggle/input/block-data/Block_data.csv\")\n",
    "data.head()"
   ]
  },
  {
   "cell_type": "code",
   "execution_count": 3,
   "id": "3eb670cd",
   "metadata": {
    "execution": {
     "iopub.execute_input": "2022-06-21T11:43:29.267124Z",
     "iopub.status.busy": "2022-06-21T11:43:29.266362Z",
     "iopub.status.idle": "2022-06-21T11:43:29.293204Z",
     "shell.execute_reply": "2022-06-21T11:43:29.291693Z"
    },
    "papermill": {
     "duration": 0.042739,
     "end_time": "2022-06-21T11:43:29.296580",
     "exception": false,
     "start_time": "2022-06-21T11:43:29.253841",
     "status": "completed"
    },
    "tags": []
   },
   "outputs": [
    {
     "name": "stdout",
     "output_type": "stream",
     "text": [
      "<class 'pandas.core.frame.DataFrame'>\n",
      "RangeIndex: 2515 entries, 0 to 2514\n",
      "Data columns (total 5 columns):\n",
      " #   Column            Non-Null Count  Dtype  \n",
      "---  ------            --------------  -----  \n",
      " 0   Date(UTC)         2515 non-null   object \n",
      " 1   UnixTimeStamp     2515 non-null   int64  \n",
      " 2   Block_Time_Value  2515 non-null   float64\n",
      " 3   Net_Hash_Value    2515 non-null   float64\n",
      " 4   Difficulty_Value  2515 non-null   float64\n",
      "dtypes: float64(3), int64(1), object(1)\n",
      "memory usage: 98.4+ KB\n"
     ]
    }
   ],
   "source": [
    "data.info()"
   ]
  },
  {
   "cell_type": "code",
   "execution_count": 4,
   "id": "99ab4c87",
   "metadata": {
    "execution": {
     "iopub.execute_input": "2022-06-21T11:43:29.324116Z",
     "iopub.status.busy": "2022-06-21T11:43:29.323364Z",
     "iopub.status.idle": "2022-06-21T11:43:29.462772Z",
     "shell.execute_reply": "2022-06-21T11:43:29.461318Z"
    },
    "papermill": {
     "duration": 0.156404,
     "end_time": "2022-06-21T11:43:29.465805",
     "exception": false,
     "start_time": "2022-06-21T11:43:29.309401",
     "status": "completed"
    },
    "tags": []
   },
   "outputs": [
    {
     "data": {
      "text/html": [
       "<div>\n",
       "<style scoped>\n",
       "    .dataframe tbody tr th:only-of-type {\n",
       "        vertical-align: middle;\n",
       "    }\n",
       "\n",
       "    .dataframe tbody tr th {\n",
       "        vertical-align: top;\n",
       "    }\n",
       "\n",
       "    .dataframe thead th {\n",
       "        text-align: right;\n",
       "    }\n",
       "</style>\n",
       "<table border=\"1\" class=\"dataframe\">\n",
       "  <thead>\n",
       "    <tr style=\"text-align: right;\">\n",
       "      <th></th>\n",
       "      <th>Date(UTC)</th>\n",
       "      <th>UnixTimeStamp</th>\n",
       "      <th>Block_Time_Value</th>\n",
       "      <th>Net_Hash_Value</th>\n",
       "      <th>Difficulty_Value</th>\n",
       "      <th>Date</th>\n",
       "    </tr>\n",
       "  </thead>\n",
       "  <tbody>\n",
       "    <tr>\n",
       "      <th>0</th>\n",
       "      <td>7/30/2015</td>\n",
       "      <td>1438214400</td>\n",
       "      <td>4.46</td>\n",
       "      <td>11.5297</td>\n",
       "      <td>0.121</td>\n",
       "      <td>2015-07-30</td>\n",
       "    </tr>\n",
       "    <tr>\n",
       "      <th>1</th>\n",
       "      <td>7/31/2015</td>\n",
       "      <td>1438300800</td>\n",
       "      <td>12.58</td>\n",
       "      <td>51.4594</td>\n",
       "      <td>0.603</td>\n",
       "      <td>2015-07-31</td>\n",
       "    </tr>\n",
       "    <tr>\n",
       "      <th>2</th>\n",
       "      <td>08-01-2015</td>\n",
       "      <td>1438387200</td>\n",
       "      <td>16.34</td>\n",
       "      <td>57.7845</td>\n",
       "      <td>0.887</td>\n",
       "      <td>2015-08-01</td>\n",
       "    </tr>\n",
       "    <tr>\n",
       "      <th>3</th>\n",
       "      <td>08-02-2015</td>\n",
       "      <td>1438473600</td>\n",
       "      <td>16.12</td>\n",
       "      <td>67.9224</td>\n",
       "      <td>1.020</td>\n",
       "      <td>2015-08-02</td>\n",
       "    </tr>\n",
       "    <tr>\n",
       "      <th>4</th>\n",
       "      <td>08-03-2015</td>\n",
       "      <td>1438560000</td>\n",
       "      <td>16.37</td>\n",
       "      <td>74.5737</td>\n",
       "      <td>1.126</td>\n",
       "      <td>2015-08-03</td>\n",
       "    </tr>\n",
       "  </tbody>\n",
       "</table>\n",
       "</div>"
      ],
      "text/plain": [
       "    Date(UTC)  UnixTimeStamp  Block_Time_Value  Net_Hash_Value  \\\n",
       "0   7/30/2015     1438214400              4.46         11.5297   \n",
       "1   7/31/2015     1438300800             12.58         51.4594   \n",
       "2  08-01-2015     1438387200             16.34         57.7845   \n",
       "3  08-02-2015     1438473600             16.12         67.9224   \n",
       "4  08-03-2015     1438560000             16.37         74.5737   \n",
       "\n",
       "   Difficulty_Value       Date  \n",
       "0             0.121 2015-07-30  \n",
       "1             0.603 2015-07-31  \n",
       "2             0.887 2015-08-01  \n",
       "3             1.020 2015-08-02  \n",
       "4             1.126 2015-08-03  "
      ]
     },
     "execution_count": 4,
     "metadata": {},
     "output_type": "execute_result"
    }
   ],
   "source": [
    "# convert column to datetime pandas\n",
    "data['Date'] = pd.to_datetime(data['Date(UTC)'])\n",
    "data.head()"
   ]
  },
  {
   "cell_type": "code",
   "execution_count": 5,
   "id": "1c55ddd0",
   "metadata": {
    "execution": {
     "iopub.execute_input": "2022-06-21T11:43:29.493725Z",
     "iopub.status.busy": "2022-06-21T11:43:29.493306Z",
     "iopub.status.idle": "2022-06-21T11:43:29.499167Z",
     "shell.execute_reply": "2022-06-21T11:43:29.498171Z"
    },
    "papermill": {
     "duration": 0.021657,
     "end_time": "2022-06-21T11:43:29.501386",
     "exception": false,
     "start_time": "2022-06-21T11:43:29.479729",
     "status": "completed"
    },
    "tags": []
   },
   "outputs": [],
   "source": [
    "data['Difficulty_Value']= 1000*data['Difficulty_Value']"
   ]
  },
  {
   "cell_type": "code",
   "execution_count": 6,
   "id": "8de7920f",
   "metadata": {
    "execution": {
     "iopub.execute_input": "2022-06-21T11:43:29.527233Z",
     "iopub.status.busy": "2022-06-21T11:43:29.526571Z",
     "iopub.status.idle": "2022-06-21T11:43:29.541763Z",
     "shell.execute_reply": "2022-06-21T11:43:29.541028Z"
    },
    "papermill": {
     "duration": 0.030879,
     "end_time": "2022-06-21T11:43:29.544159",
     "exception": false,
     "start_time": "2022-06-21T11:43:29.513280",
     "status": "completed"
    },
    "tags": []
   },
   "outputs": [
    {
     "data": {
      "text/html": [
       "<div>\n",
       "<style scoped>\n",
       "    .dataframe tbody tr th:only-of-type {\n",
       "        vertical-align: middle;\n",
       "    }\n",
       "\n",
       "    .dataframe tbody tr th {\n",
       "        vertical-align: top;\n",
       "    }\n",
       "\n",
       "    .dataframe thead th {\n",
       "        text-align: right;\n",
       "    }\n",
       "</style>\n",
       "<table border=\"1\" class=\"dataframe\">\n",
       "  <thead>\n",
       "    <tr style=\"text-align: right;\">\n",
       "      <th></th>\n",
       "      <th>Date</th>\n",
       "      <th>Block_Time_Value</th>\n",
       "      <th>Net_Hash_Value</th>\n",
       "      <th>Difficulty_Value</th>\n",
       "    </tr>\n",
       "  </thead>\n",
       "  <tbody>\n",
       "    <tr>\n",
       "      <th>0</th>\n",
       "      <td>2015-07-30</td>\n",
       "      <td>4.46</td>\n",
       "      <td>11.5297</td>\n",
       "      <td>121.0</td>\n",
       "    </tr>\n",
       "    <tr>\n",
       "      <th>1</th>\n",
       "      <td>2015-07-31</td>\n",
       "      <td>12.58</td>\n",
       "      <td>51.4594</td>\n",
       "      <td>603.0</td>\n",
       "    </tr>\n",
       "    <tr>\n",
       "      <th>2</th>\n",
       "      <td>2015-08-01</td>\n",
       "      <td>16.34</td>\n",
       "      <td>57.7845</td>\n",
       "      <td>887.0</td>\n",
       "    </tr>\n",
       "    <tr>\n",
       "      <th>3</th>\n",
       "      <td>2015-08-02</td>\n",
       "      <td>16.12</td>\n",
       "      <td>67.9224</td>\n",
       "      <td>1020.0</td>\n",
       "    </tr>\n",
       "    <tr>\n",
       "      <th>4</th>\n",
       "      <td>2015-08-03</td>\n",
       "      <td>16.37</td>\n",
       "      <td>74.5737</td>\n",
       "      <td>1126.0</td>\n",
       "    </tr>\n",
       "  </tbody>\n",
       "</table>\n",
       "</div>"
      ],
      "text/plain": [
       "        Date  Block_Time_Value  Net_Hash_Value  Difficulty_Value\n",
       "0 2015-07-30              4.46         11.5297             121.0\n",
       "1 2015-07-31             12.58         51.4594             603.0\n",
       "2 2015-08-01             16.34         57.7845             887.0\n",
       "3 2015-08-02             16.12         67.9224            1020.0\n",
       "4 2015-08-03             16.37         74.5737            1126.0"
      ]
     },
     "execution_count": 6,
     "metadata": {},
     "output_type": "execute_result"
    }
   ],
   "source": [
    "data = data[['Date','Block_Time_Value','Net_Hash_Value','Difficulty_Value']]\n",
    "data.head()"
   ]
  },
  {
   "cell_type": "code",
   "execution_count": 7,
   "id": "abac8fae",
   "metadata": {
    "execution": {
     "iopub.execute_input": "2022-06-21T11:43:29.572133Z",
     "iopub.status.busy": "2022-06-21T11:43:29.571531Z",
     "iopub.status.idle": "2022-06-21T11:43:29.584037Z",
     "shell.execute_reply": "2022-06-21T11:43:29.583165Z"
    },
    "papermill": {
     "duration": 0.029399,
     "end_time": "2022-06-21T11:43:29.586640",
     "exception": false,
     "start_time": "2022-06-21T11:43:29.557241",
     "status": "completed"
    },
    "tags": []
   },
   "outputs": [
    {
     "data": {
      "text/html": [
       "<div>\n",
       "<style scoped>\n",
       "    .dataframe tbody tr th:only-of-type {\n",
       "        vertical-align: middle;\n",
       "    }\n",
       "\n",
       "    .dataframe tbody tr th {\n",
       "        vertical-align: top;\n",
       "    }\n",
       "\n",
       "    .dataframe thead th {\n",
       "        text-align: right;\n",
       "    }\n",
       "</style>\n",
       "<table border=\"1\" class=\"dataframe\">\n",
       "  <thead>\n",
       "    <tr style=\"text-align: right;\">\n",
       "      <th></th>\n",
       "      <th>Block_Time_Value</th>\n",
       "      <th>Net_Hash_Value</th>\n",
       "      <th>Difficulty_Value</th>\n",
       "    </tr>\n",
       "  </thead>\n",
       "  <tbody>\n",
       "    <tr>\n",
       "      <th>Block_Time_Value</th>\n",
       "      <td>1.000000</td>\n",
       "      <td>-0.313085</td>\n",
       "      <td>-0.259383</td>\n",
       "    </tr>\n",
       "    <tr>\n",
       "      <th>Net_Hash_Value</th>\n",
       "      <td>-0.313085</td>\n",
       "      <td>1.000000</td>\n",
       "      <td>0.997454</td>\n",
       "    </tr>\n",
       "    <tr>\n",
       "      <th>Difficulty_Value</th>\n",
       "      <td>-0.259383</td>\n",
       "      <td>0.997454</td>\n",
       "      <td>1.000000</td>\n",
       "    </tr>\n",
       "  </tbody>\n",
       "</table>\n",
       "</div>"
      ],
      "text/plain": [
       "                  Block_Time_Value  Net_Hash_Value  Difficulty_Value\n",
       "Block_Time_Value          1.000000       -0.313085         -0.259383\n",
       "Net_Hash_Value           -0.313085        1.000000          0.997454\n",
       "Difficulty_Value         -0.259383        0.997454          1.000000"
      ]
     },
     "execution_count": 7,
     "metadata": {},
     "output_type": "execute_result"
    }
   ],
   "source": [
    "data.corr()"
   ]
  },
  {
   "cell_type": "code",
   "execution_count": 8,
   "id": "2dffc597",
   "metadata": {
    "execution": {
     "iopub.execute_input": "2022-06-21T11:43:29.614556Z",
     "iopub.status.busy": "2022-06-21T11:43:29.614138Z",
     "iopub.status.idle": "2022-06-21T11:43:31.203510Z",
     "shell.execute_reply": "2022-06-21T11:43:31.202175Z"
    },
    "papermill": {
     "duration": 1.605598,
     "end_time": "2022-06-21T11:43:31.205978",
     "exception": false,
     "start_time": "2022-06-21T11:43:29.600380",
     "status": "completed"
    },
    "tags": []
   },
   "outputs": [
    {
     "data": {
      "text/plain": [
       "<AxesSubplot:xlabel='Date', ylabel='Difficulty_Value'>"
      ]
     },
     "execution_count": 8,
     "metadata": {},
     "output_type": "execute_result"
    },
    {
     "data": {
      "image/png": "[encoded data removed]",
      "text/plain": [
       "<Figure size 432x288 with 1 Axes>"
      ]
     },
     "metadata": {
      "needs_background": "light"
     },
     "output_type": "display_data"
    }
   ],
   "source": [
    "import seaborn as sns\n",
    "\n",
    "sns.lineplot(data = data, x=\"Date\", y=\"Difficulty_Value\")"
   ]
  },
  {
   "cell_type": "code",
   "execution_count": 9,
   "id": "885eaae0",
   "metadata": {
    "execution": {
     "iopub.execute_input": "2022-06-21T11:43:31.234384Z",
     "iopub.status.busy": "2022-06-21T11:43:31.233715Z",
     "iopub.status.idle": "2022-06-21T11:43:31.622585Z",
     "shell.execute_reply": "2022-06-21T11:43:31.621762Z"
    },
    "papermill": {
     "duration": 0.40563,
     "end_time": "2022-06-21T11:43:31.624986",
     "exception": false,
     "start_time": "2022-06-21T11:43:31.219356",
     "status": "completed"
    },
    "tags": []
   },
   "outputs": [
    {
     "data": {
      "text/plain": [
       "<AxesSubplot:xlabel='Date', ylabel='Net_Hash_Value'>"
      ]
     },
     "execution_count": 9,
     "metadata": {},
     "output_type": "execute_result"
    },
    {
     "data": {
      "image/png": "[encoded data removed]",
      "text/plain": [
       "<Figure size 432x288 with 1 Axes>"
      ]
     },
     "metadata": {
      "needs_background": "light"
     },
     "output_type": "display_data"
    }
   ],
   "source": [
    "sns.lineplot(data = data, x=\"Date\", y=\"Net_Hash_Value\")"
   ]
  },
  {
   "cell_type": "code",
   "execution_count": 10,
   "id": "70a679c3",
   "metadata": {
    "execution": {
     "iopub.execute_input": "2022-06-21T11:43:31.654559Z",
     "iopub.status.busy": "2022-06-21T11:43:31.654128Z",
     "iopub.status.idle": "2022-06-21T11:43:32.045536Z",
     "shell.execute_reply": "2022-06-21T11:43:32.044305Z"
    },
    "papermill": {
     "duration": 0.409585,
     "end_time": "2022-06-21T11:43:32.048533",
     "exception": false,
     "start_time": "2022-06-21T11:43:31.638948",
     "status": "completed"
    },
    "tags": []
   },
   "outputs": [
    {
     "data": {
      "text/plain": [
       "<AxesSubplot:xlabel='Date', ylabel='Block_Time_Value'>"
      ]
     },
     "execution_count": 10,
     "metadata": {},
     "output_type": "execute_result"
    },
    {
     "data": {
      "image/png": "[encoded data removed]",
      "text/plain": [
       "<Figure size 432x288 with 1 Axes>"
      ]
     },
     "metadata": {
      "needs_background": "light"
     },
     "output_type": "display_data"
    }
   ],
   "source": [
    "sns.lineplot(data = data, x=\"Date\", y=\"Block_Time_Value\")"
   ]
  },
  {
   "cell_type": "markdown",
   "id": "d30cfa8e",
   "metadata": {
    "papermill": {
     "duration": 0.013583,
     "end_time": "2022-06-21T11:43:32.076250",
     "exception": false,
     "start_time": "2022-06-21T11:43:32.062667",
     "status": "completed"
    },
    "tags": []
   },
   "source": [
    "# Observations and Ideas\n",
    "Difficulty = Hash Rate/ Total number of miners \n",
    "https://medium.com/simplemining/what-affects-the-mining-profitability-for-ethereum-540fa9ef2bc5\n",
    "\n"
   ]
  },
  {
   "cell_type": "code",
   "execution_count": 11,
   "id": "7ed86078",
   "metadata": {
    "execution": {
     "iopub.execute_input": "2022-06-21T11:43:32.106834Z",
     "iopub.status.busy": "2022-06-21T11:43:32.105767Z",
     "iopub.status.idle": "2022-06-21T11:43:32.122821Z",
     "shell.execute_reply": "2022-06-21T11:43:32.122055Z"
    },
    "papermill": {
     "duration": 0.034635,
     "end_time": "2022-06-21T11:43:32.124790",
     "exception": false,
     "start_time": "2022-06-21T11:43:32.090155",
     "status": "completed"
    },
    "tags": []
   },
   "outputs": [
    {
     "data": {
      "text/html": [
       "<div>\n",
       "<style scoped>\n",
       "    .dataframe tbody tr th:only-of-type {\n",
       "        vertical-align: middle;\n",
       "    }\n",
       "\n",
       "    .dataframe tbody tr th {\n",
       "        vertical-align: top;\n",
       "    }\n",
       "\n",
       "    .dataframe thead th {\n",
       "        text-align: right;\n",
       "    }\n",
       "</style>\n",
       "<table border=\"1\" class=\"dataframe\">\n",
       "  <thead>\n",
       "    <tr style=\"text-align: right;\">\n",
       "      <th></th>\n",
       "      <th>Date</th>\n",
       "      <th>Block_Time_Value</th>\n",
       "      <th>Net_Hash_Value</th>\n",
       "      <th>Difficulty_Value</th>\n",
       "      <th>Change</th>\n",
       "    </tr>\n",
       "  </thead>\n",
       "  <tbody>\n",
       "    <tr>\n",
       "      <th>0</th>\n",
       "      <td>2015-07-30</td>\n",
       "      <td>4.46</td>\n",
       "      <td>11.5297</td>\n",
       "      <td>121.0</td>\n",
       "      <td>NaN</td>\n",
       "    </tr>\n",
       "    <tr>\n",
       "      <th>1</th>\n",
       "      <td>2015-07-31</td>\n",
       "      <td>12.58</td>\n",
       "      <td>51.4594</td>\n",
       "      <td>603.0</td>\n",
       "      <td>482.0</td>\n",
       "    </tr>\n",
       "    <tr>\n",
       "      <th>2</th>\n",
       "      <td>2015-08-01</td>\n",
       "      <td>16.34</td>\n",
       "      <td>57.7845</td>\n",
       "      <td>887.0</td>\n",
       "      <td>284.0</td>\n",
       "    </tr>\n",
       "    <tr>\n",
       "      <th>3</th>\n",
       "      <td>2015-08-02</td>\n",
       "      <td>16.12</td>\n",
       "      <td>67.9224</td>\n",
       "      <td>1020.0</td>\n",
       "      <td>133.0</td>\n",
       "    </tr>\n",
       "    <tr>\n",
       "      <th>4</th>\n",
       "      <td>2015-08-03</td>\n",
       "      <td>16.37</td>\n",
       "      <td>74.5737</td>\n",
       "      <td>1126.0</td>\n",
       "      <td>106.0</td>\n",
       "    </tr>\n",
       "  </tbody>\n",
       "</table>\n",
       "</div>"
      ],
      "text/plain": [
       "        Date  Block_Time_Value  Net_Hash_Value  Difficulty_Value  Change\n",
       "0 2015-07-30              4.46         11.5297             121.0     NaN\n",
       "1 2015-07-31             12.58         51.4594             603.0   482.0\n",
       "2 2015-08-01             16.34         57.7845             887.0   284.0\n",
       "3 2015-08-02             16.12         67.9224            1020.0   133.0\n",
       "4 2015-08-03             16.37         74.5737            1126.0   106.0"
      ]
     },
     "execution_count": 11,
     "metadata": {},
     "output_type": "execute_result"
    }
   ],
   "source": [
    "data[\"Change\"] = data[\"Difficulty_Value\"] - data[\"Difficulty_Value\"].shift()\n",
    "data.head()"
   ]
  },
  {
   "cell_type": "code",
   "execution_count": 12,
   "id": "cba3a609",
   "metadata": {
    "execution": {
     "iopub.execute_input": "2022-06-21T11:43:32.156750Z",
     "iopub.status.busy": "2022-06-21T11:43:32.155627Z",
     "iopub.status.idle": "2022-06-21T11:43:32.724549Z",
     "shell.execute_reply": "2022-06-21T11:43:32.723616Z"
    },
    "papermill": {
     "duration": 0.587091,
     "end_time": "2022-06-21T11:43:32.727102",
     "exception": false,
     "start_time": "2022-06-21T11:43:32.140011",
     "status": "completed"
    },
    "tags": []
   },
   "outputs": [
    {
     "data": {
      "text/html": [
       "<div>\n",
       "<style scoped>\n",
       "    .dataframe tbody tr th:only-of-type {\n",
       "        vertical-align: middle;\n",
       "    }\n",
       "\n",
       "    .dataframe tbody tr th {\n",
       "        vertical-align: top;\n",
       "    }\n",
       "\n",
       "    .dataframe thead th {\n",
       "        text-align: right;\n",
       "    }\n",
       "</style>\n",
       "<table border=\"1\" class=\"dataframe\">\n",
       "  <thead>\n",
       "    <tr style=\"text-align: right;\">\n",
       "      <th></th>\n",
       "      <th>Date</th>\n",
       "      <th>Block_Time_Value</th>\n",
       "      <th>Net_Hash_Value</th>\n",
       "      <th>Difficulty_Value</th>\n",
       "      <th>Change</th>\n",
       "      <th>Ratio</th>\n",
       "    </tr>\n",
       "  </thead>\n",
       "  <tbody>\n",
       "    <tr>\n",
       "      <th>0</th>\n",
       "      <td>2015-07-30</td>\n",
       "      <td>4.46</td>\n",
       "      <td>11.5297</td>\n",
       "      <td>121.0</td>\n",
       "      <td>NaN</td>\n",
       "      <td>13.998704</td>\n",
       "    </tr>\n",
       "    <tr>\n",
       "      <th>1</th>\n",
       "      <td>2015-07-31</td>\n",
       "      <td>12.58</td>\n",
       "      <td>51.4594</td>\n",
       "      <td>603.0</td>\n",
       "      <td>482.0</td>\n",
       "      <td>13.998704</td>\n",
       "    </tr>\n",
       "    <tr>\n",
       "      <th>2</th>\n",
       "      <td>2015-08-01</td>\n",
       "      <td>16.34</td>\n",
       "      <td>57.7845</td>\n",
       "      <td>887.0</td>\n",
       "      <td>284.0</td>\n",
       "      <td>13.998704</td>\n",
       "    </tr>\n",
       "    <tr>\n",
       "      <th>3</th>\n",
       "      <td>2015-08-02</td>\n",
       "      <td>16.12</td>\n",
       "      <td>67.9224</td>\n",
       "      <td>1020.0</td>\n",
       "      <td>133.0</td>\n",
       "      <td>13.998704</td>\n",
       "    </tr>\n",
       "    <tr>\n",
       "      <th>4</th>\n",
       "      <td>2015-08-03</td>\n",
       "      <td>16.37</td>\n",
       "      <td>74.5737</td>\n",
       "      <td>1126.0</td>\n",
       "      <td>106.0</td>\n",
       "      <td>13.998704</td>\n",
       "    </tr>\n",
       "  </tbody>\n",
       "</table>\n",
       "</div>"
      ],
      "text/plain": [
       "        Date  Block_Time_Value  Net_Hash_Value  Difficulty_Value  Change  \\\n",
       "0 2015-07-30              4.46         11.5297             121.0     NaN   \n",
       "1 2015-07-31             12.58         51.4594             603.0   482.0   \n",
       "2 2015-08-01             16.34         57.7845             887.0   284.0   \n",
       "3 2015-08-02             16.12         67.9224            1020.0   133.0   \n",
       "4 2015-08-03             16.37         74.5737            1126.0   106.0   \n",
       "\n",
       "       Ratio  \n",
       "0  13.998704  \n",
       "1  13.998704  \n",
       "2  13.998704  \n",
       "3  13.998704  \n",
       "4  13.998704  "
      ]
     },
     "execution_count": 12,
     "metadata": {},
     "output_type": "execute_result"
    }
   ],
   "source": [
    "for i in range(2515):\n",
    "    data[\"Ratio\"]= ((data[\"Difficulty_Value\"][i]))/data[\"Net_Hash_Value\"][i]\n",
    "data.head()"
   ]
  },
  {
   "cell_type": "code",
   "execution_count": 13,
   "id": "c39498d9",
   "metadata": {
    "execution": {
     "iopub.execute_input": "2022-06-21T11:43:32.759251Z",
     "iopub.status.busy": "2022-06-21T11:43:32.758626Z",
     "iopub.status.idle": "2022-06-21T11:43:32.775557Z",
     "shell.execute_reply": "2022-06-21T11:43:32.774432Z"
    },
    "papermill": {
     "duration": 0.035407,
     "end_time": "2022-06-21T11:43:32.777802",
     "exception": false,
     "start_time": "2022-06-21T11:43:32.742395",
     "status": "completed"
    },
    "tags": []
   },
   "outputs": [
    {
     "data": {
      "text/html": [
       "<div>\n",
       "<style scoped>\n",
       "    .dataframe tbody tr th:only-of-type {\n",
       "        vertical-align: middle;\n",
       "    }\n",
       "\n",
       "    .dataframe tbody tr th {\n",
       "        vertical-align: top;\n",
       "    }\n",
       "\n",
       "    .dataframe thead th {\n",
       "        text-align: right;\n",
       "    }\n",
       "</style>\n",
       "<table border=\"1\" class=\"dataframe\">\n",
       "  <thead>\n",
       "    <tr style=\"text-align: right;\">\n",
       "      <th></th>\n",
       "      <th>Block_Time_Value</th>\n",
       "      <th>Net_Hash_Value</th>\n",
       "      <th>Difficulty_Value</th>\n",
       "      <th>Change</th>\n",
       "      <th>Ratio</th>\n",
       "    </tr>\n",
       "  </thead>\n",
       "  <tbody>\n",
       "    <tr>\n",
       "      <th>Block_Time_Value</th>\n",
       "      <td>1.000000</td>\n",
       "      <td>-0.313085</td>\n",
       "      <td>-0.259383</td>\n",
       "      <td>-0.005059</td>\n",
       "      <td>NaN</td>\n",
       "    </tr>\n",
       "    <tr>\n",
       "      <th>Net_Hash_Value</th>\n",
       "      <td>-0.313085</td>\n",
       "      <td>1.000000</td>\n",
       "      <td>0.997454</td>\n",
       "      <td>0.074306</td>\n",
       "      <td>NaN</td>\n",
       "    </tr>\n",
       "    <tr>\n",
       "      <th>Difficulty_Value</th>\n",
       "      <td>-0.259383</td>\n",
       "      <td>0.997454</td>\n",
       "      <td>1.000000</td>\n",
       "      <td>0.072898</td>\n",
       "      <td>NaN</td>\n",
       "    </tr>\n",
       "    <tr>\n",
       "      <th>Change</th>\n",
       "      <td>-0.005059</td>\n",
       "      <td>0.074306</td>\n",
       "      <td>0.072898</td>\n",
       "      <td>1.000000</td>\n",
       "      <td>NaN</td>\n",
       "    </tr>\n",
       "    <tr>\n",
       "      <th>Ratio</th>\n",
       "      <td>NaN</td>\n",
       "      <td>NaN</td>\n",
       "      <td>NaN</td>\n",
       "      <td>NaN</td>\n",
       "      <td>NaN</td>\n",
       "    </tr>\n",
       "  </tbody>\n",
       "</table>\n",
       "</div>"
      ],
      "text/plain": [
       "                  Block_Time_Value  Net_Hash_Value  Difficulty_Value  \\\n",
       "Block_Time_Value          1.000000       -0.313085         -0.259383   \n",
       "Net_Hash_Value           -0.313085        1.000000          0.997454   \n",
       "Difficulty_Value         -0.259383        0.997454          1.000000   \n",
       "Change                   -0.005059        0.074306          0.072898   \n",
       "Ratio                          NaN             NaN               NaN   \n",
       "\n",
       "                    Change  Ratio  \n",
       "Block_Time_Value -0.005059    NaN  \n",
       "Net_Hash_Value    0.074306    NaN  \n",
       "Difficulty_Value  0.072898    NaN  \n",
       "Change            1.000000    NaN  \n",
       "Ratio                  NaN    NaN  "
      ]
     },
     "execution_count": 13,
     "metadata": {},
     "output_type": "execute_result"
    }
   ],
   "source": [
    "data.corr()"
   ]
  },
  {
   "cell_type": "markdown",
   "id": "d4763bd6",
   "metadata": {
    "papermill": {
     "duration": 0.01423,
     "end_time": "2022-06-21T11:43:32.807165",
     "exception": false,
     "start_time": "2022-06-21T11:43:32.792935",
     "status": "completed"
    },
    "tags": []
   },
   "source": [
    "Ratio same because equal number of miners considered!!"
   ]
  },
  {
   "cell_type": "code",
   "execution_count": 14,
   "id": "7173b8c2",
   "metadata": {
    "execution": {
     "iopub.execute_input": "2022-06-21T11:43:32.837567Z",
     "iopub.status.busy": "2022-06-21T11:43:32.837160Z",
     "iopub.status.idle": "2022-06-21T11:43:32.852831Z",
     "shell.execute_reply": "2022-06-21T11:43:32.852106Z"
    },
    "papermill": {
     "duration": 0.033585,
     "end_time": "2022-06-21T11:43:32.855253",
     "exception": false,
     "start_time": "2022-06-21T11:43:32.821668",
     "status": "completed"
    },
    "tags": []
   },
   "outputs": [
    {
     "data": {
      "text/html": [
       "<div>\n",
       "<style scoped>\n",
       "    .dataframe tbody tr th:only-of-type {\n",
       "        vertical-align: middle;\n",
       "    }\n",
       "\n",
       "    .dataframe tbody tr th {\n",
       "        vertical-align: top;\n",
       "    }\n",
       "\n",
       "    .dataframe thead th {\n",
       "        text-align: right;\n",
       "    }\n",
       "</style>\n",
       "<table border=\"1\" class=\"dataframe\">\n",
       "  <thead>\n",
       "    <tr style=\"text-align: right;\">\n",
       "      <th></th>\n",
       "      <th>Date</th>\n",
       "      <th>Block_Time_Value</th>\n",
       "      <th>Net_Hash_Value</th>\n",
       "      <th>Difficulty_Value</th>\n",
       "      <th>Change</th>\n",
       "      <th>Ratio</th>\n",
       "    </tr>\n",
       "  </thead>\n",
       "  <tbody>\n",
       "    <tr>\n",
       "      <th>804</th>\n",
       "      <td>2017-10-11</td>\n",
       "      <td>29.33</td>\n",
       "      <td>109279.7021</td>\n",
       "      <td>2997386.0</td>\n",
       "      <td>83901.0</td>\n",
       "      <td>13.998704</td>\n",
       "    </tr>\n",
       "    <tr>\n",
       "      <th>805</th>\n",
       "      <td>2017-10-12</td>\n",
       "      <td>29.46</td>\n",
       "      <td>105449.0222</td>\n",
       "      <td>2911728.0</td>\n",
       "      <td>-85658.0</td>\n",
       "      <td>13.998704</td>\n",
       "    </tr>\n",
       "    <tr>\n",
       "      <th>806</th>\n",
       "      <td>2017-10-13</td>\n",
       "      <td>29.60</td>\n",
       "      <td>110049.5848</td>\n",
       "      <td>3031012.0</td>\n",
       "      <td>119284.0</td>\n",
       "      <td>13.998704</td>\n",
       "    </tr>\n",
       "    <tr>\n",
       "      <th>807</th>\n",
       "      <td>2017-10-14</td>\n",
       "      <td>29.71</td>\n",
       "      <td>105135.7480</td>\n",
       "      <td>2917998.0</td>\n",
       "      <td>-113014.0</td>\n",
       "      <td>13.998704</td>\n",
       "    </tr>\n",
       "    <tr>\n",
       "      <th>808</th>\n",
       "      <td>2017-10-15</td>\n",
       "      <td>29.09</td>\n",
       "      <td>108556.0976</td>\n",
       "      <td>2962491.0</td>\n",
       "      <td>44493.0</td>\n",
       "      <td>13.998704</td>\n",
       "    </tr>\n",
       "  </tbody>\n",
       "</table>\n",
       "</div>"
      ],
      "text/plain": [
       "          Date  Block_Time_Value  Net_Hash_Value  Difficulty_Value    Change  \\\n",
       "804 2017-10-11             29.33     109279.7021         2997386.0   83901.0   \n",
       "805 2017-10-12             29.46     105449.0222         2911728.0  -85658.0   \n",
       "806 2017-10-13             29.60     110049.5848         3031012.0  119284.0   \n",
       "807 2017-10-14             29.71     105135.7480         2917998.0 -113014.0   \n",
       "808 2017-10-15             29.09     108556.0976         2962491.0   44493.0   \n",
       "\n",
       "         Ratio  \n",
       "804  13.998704  \n",
       "805  13.998704  \n",
       "806  13.998704  \n",
       "807  13.998704  \n",
       "808  13.998704  "
      ]
     },
     "execution_count": 14,
     "metadata": {},
     "output_type": "execute_result"
    }
   ],
   "source": [
    "data_b1 = data.iloc[620:809]\n",
    "data_b1.tail()"
   ]
  },
  {
   "cell_type": "code",
   "execution_count": 15,
   "id": "e22612b8",
   "metadata": {
    "execution": {
     "iopub.execute_input": "2022-06-21T11:43:32.885527Z",
     "iopub.status.busy": "2022-06-21T11:43:32.884722Z",
     "iopub.status.idle": "2022-06-21T11:43:32.899568Z",
     "shell.execute_reply": "2022-06-21T11:43:32.898455Z"
    },
    "papermill": {
     "duration": 0.032659,
     "end_time": "2022-06-21T11:43:32.901988",
     "exception": false,
     "start_time": "2022-06-21T11:43:32.869329",
     "status": "completed"
    },
    "tags": []
   },
   "outputs": [
    {
     "name": "stdout",
     "output_type": "stream",
     "text": [
      "<class 'pandas.core.frame.DataFrame'>\n",
      "RangeIndex: 189 entries, 620 to 808\n",
      "Data columns (total 6 columns):\n",
      " #   Column            Non-Null Count  Dtype         \n",
      "---  ------            --------------  -----         \n",
      " 0   Date              189 non-null    datetime64[ns]\n",
      " 1   Block_Time_Value  189 non-null    float64       \n",
      " 2   Net_Hash_Value    189 non-null    float64       \n",
      " 3   Difficulty_Value  189 non-null    float64       \n",
      " 4   Change            189 non-null    float64       \n",
      " 5   Ratio             189 non-null    float64       \n",
      "dtypes: datetime64[ns](1), float64(5)\n",
      "memory usage: 9.0 KB\n"
     ]
    }
   ],
   "source": [
    "data_b1.info()"
   ]
  },
  {
   "cell_type": "markdown",
   "id": "a3288e6f",
   "metadata": {
    "papermill": {
     "duration": 0.014314,
     "end_time": "2022-06-21T11:43:32.930668",
     "exception": false,
     "start_time": "2022-06-21T11:43:32.916354",
     "status": "completed"
    },
    "tags": []
   },
   "source": [
    "**Taking help from effort definition of Physics, Difficulty = hash rate/number of miners**"
   ]
  },
  {
   "cell_type": "markdown",
   "id": "b633b712",
   "metadata": {
    "papermill": {
     "duration": 0.014202,
     "end_time": "2022-06-21T11:43:32.959417",
     "exception": false,
     "start_time": "2022-06-21T11:43:32.945215",
     "status": "completed"
    },
    "tags": []
   },
   "source": [
    "Difficulty and hashrate are closely related. If you divide network difficulty by network hashrate, you will get the average block find time of a cryptocurrency block. # from https://2miners.com/eth-network-difficulty"
   ]
  },
  {
   "cell_type": "code",
   "execution_count": 16,
   "id": "2c2f2b62",
   "metadata": {
    "execution": {
     "iopub.execute_input": "2022-06-21T11:43:32.990462Z",
     "iopub.status.busy": "2022-06-21T11:43:32.989824Z",
     "iopub.status.idle": "2022-06-21T11:43:33.364651Z",
     "shell.execute_reply": "2022-06-21T11:43:33.363837Z"
    },
    "papermill": {
     "duration": 0.392825,
     "end_time": "2022-06-21T11:43:33.366771",
     "exception": false,
     "start_time": "2022-06-21T11:43:32.973946",
     "status": "completed"
    },
    "tags": []
   },
   "outputs": [
    {
     "data": {
      "text/plain": [
       "<AxesSubplot:xlabel='Date', ylabel='Ratio'>"
      ]
     },
     "execution_count": 16,
     "metadata": {},
     "output_type": "execute_result"
    },
    {
     "data": {
      "image/png": "[encoded data removed]",
      "text/plain": [
       "<Figure size 432x288 with 1 Axes>"
      ]
     },
     "metadata": {
      "needs_background": "light"
     },
     "output_type": "display_data"
    }
   ],
   "source": [
    "sns.lineplot(data = data, x=\"Date\", y=\"Ratio\")"
   ]
  },
  {
   "cell_type": "markdown",
   "id": "4629d6b6",
   "metadata": {
    "papermill": {
     "duration": 0.01477,
     "end_time": "2022-06-21T11:43:33.396717",
     "exception": false,
     "start_time": "2022-06-21T11:43:33.381947",
     "status": "completed"
    },
    "tags": []
   },
   "source": [
    "Thus if we model the expected difficulty from the formula : \\\\\n",
    "\n",
    "As we discussed in the previous section, following is the change (bold) introduced to ethereum difficulty algorithm to support the difficulty bomb:\n",
    "\n",
    "current_block_difficulty = parent_block_difficulty + (parent_block_difficulty // 2048) *1 + int(2**((current_block_number // 100000) — 2))\n",
    "\n",
    "from https://medium.facilelogin.com/the-mystery-behind-block-time-63351e35603a"
   ]
  },
  {
   "cell_type": "markdown",
   "id": "acef0ac7",
   "metadata": {
    "papermill": {
     "duration": 0.014483,
     "end_time": "2022-06-21T11:43:33.426084",
     "exception": false,
     "start_time": "2022-06-21T11:43:33.411601",
     "status": "completed"
    },
    "tags": []
   },
   "source": [
    "We try to model the Hash rate using loose curve fitting onto the function : $10^8 \\cdot e^{(\\frac{x}{2}-4)}$"
   ]
  },
  {
   "cell_type": "code",
   "execution_count": 17,
   "id": "3b4573ec",
   "metadata": {
    "execution": {
     "iopub.execute_input": "2022-06-21T11:43:33.459242Z",
     "iopub.status.busy": "2022-06-21T11:43:33.458610Z",
     "iopub.status.idle": "2022-06-21T11:43:33.662287Z",
     "shell.execute_reply": "2022-06-21T11:43:33.661427Z"
    },
    "papermill": {
     "duration": 0.223411,
     "end_time": "2022-06-21T11:43:33.664407",
     "exception": false,
     "start_time": "2022-06-21T11:43:33.440996",
     "status": "completed"
    },
    "tags": []
   },
   "outputs": [
    {
     "data": {
      "image/png": "[encoded data removed]",
      "text/plain": [
       "<Figure size 720x288 with 1 Axes>"
      ]
     },
     "metadata": {
      "needs_background": "light"
     },
     "output_type": "display_data"
    }
   ],
   "source": [
    "# Import libraries\n",
    "import matplotlib.pyplot as plt\n",
    "import numpy as np\n",
    " \n",
    "# Creating vectors X and Y\n",
    "x = np.linspace(0, 10, 100)\n",
    "y = np.exp(((x)/2)-4)\n",
    " \n",
    "fig = plt.figure(figsize = (10, 4))\n",
    "# Create the plot\n",
    "plt.plot(x,y)\n",
    " \n",
    "# Show the plot\n",
    "plt.show()"
   ]
  },
  {
   "cell_type": "markdown",
   "id": "41eb56b5",
   "metadata": {
    "papermill": {
     "duration": 0.014859,
     "end_time": "2022-06-21T11:43:33.694479",
     "exception": false,
     "start_time": "2022-06-21T11:43:33.679620",
     "status": "completed"
    },
    "tags": []
   },
   "source": [
    "Using gradient fitting"
   ]
  },
  {
   "cell_type": "code",
   "execution_count": 18,
   "id": "5be69bf5",
   "metadata": {
    "execution": {
     "iopub.execute_input": "2022-06-21T11:43:33.725725Z",
     "iopub.status.busy": "2022-06-21T11:43:33.725076Z",
     "iopub.status.idle": "2022-06-21T11:43:34.097778Z",
     "shell.execute_reply": "2022-06-21T11:43:34.096486Z"
    },
    "papermill": {
     "duration": 0.391007,
     "end_time": "2022-06-21T11:43:34.100111",
     "exception": false,
     "start_time": "2022-06-21T11:43:33.709104",
     "status": "completed"
    },
    "tags": []
   },
   "outputs": [
    {
     "data": {
      "text/plain": [
       "<AxesSubplot:xlabel='Date', ylabel='Net_Hash_Value'>"
      ]
     },
     "execution_count": 18,
     "metadata": {},
     "output_type": "execute_result"
    },
    {
     "data": {
      "image/png": "[encoded data removed]",
      "text/plain": [
       "<Figure size 432x288 with 1 Axes>"
      ]
     },
     "metadata": {
      "needs_background": "light"
     },
     "output_type": "display_data"
    }
   ],
   "source": [
    "sns.lineplot(data = data, x=\"Date\", y=\"Net_Hash_Value\")"
   ]
  },
  {
   "cell_type": "markdown",
   "id": "e5189404",
   "metadata": {
    "papermill": {
     "duration": 0.015174,
     "end_time": "2022-06-21T11:43:34.130515",
     "exception": false,
     "start_time": "2022-06-21T11:43:34.115341",
     "status": "completed"
    },
    "tags": []
   },
   "source": [
    "# Testing and Modelling"
   ]
  },
  {
   "cell_type": "markdown",
   "id": "2e6e7666",
   "metadata": {
    "papermill": {
     "duration": 0.01542,
     "end_time": "2022-06-21T11:43:34.161512",
     "exception": false,
     "start_time": "2022-06-21T11:43:34.146092",
     "status": "completed"
    },
    "tags": []
   },
   "source": [
    "Block Number In EIP = 15530314 \n",
    "\n",
    "Assumed Initial Block Time = 13.3s\n",
    "\n",
    "Assumed Initial Hash Rate = $10^8 \\cdot e^{(\\frac{1.5530314}{2}-4)}$ = 3981608.51038 GH/s\n",
    "\n",
    "Thus Assumed Difficulty = Assumed Initial Hash Rate*13.3 = 52955393.1881 GH"
   ]
  },
  {
   "cell_type": "markdown",
   "id": "1a373e36",
   "metadata": {
    "papermill": {
     "duration": 0.014911,
     "end_time": "2022-06-21T11:43:34.193087",
     "exception": false,
     "start_time": "2022-06-21T11:43:34.178176",
     "status": "completed"
    },
    "tags": []
   },
   "source": [
    "****Now The Bomb Goes off at Block = 15530314 ****"
   ]
  },
  {
   "cell_type": "code",
   "execution_count": 19,
   "id": "b95a2061",
   "metadata": {
    "execution": {
     "iopub.execute_input": "2022-06-21T11:43:34.225645Z",
     "iopub.status.busy": "2022-06-21T11:43:34.225225Z",
     "iopub.status.idle": "2022-06-21T11:43:34.231159Z",
     "shell.execute_reply": "2022-06-21T11:43:34.230151Z"
    },
    "papermill": {
     "duration": 0.024764,
     "end_time": "2022-06-21T11:43:34.233344",
     "exception": false,
     "start_time": "2022-06-21T11:43:34.208580",
     "status": "completed"
    },
    "tags": []
   },
   "outputs": [
    {
     "name": "stdout",
     "output_type": "stream",
     "text": [
      "1.141798154164768e+46\n"
     ]
    }
   ],
   "source": [
    "# using difficulty definition from yellowpaper\n",
    "new_difficulty = 52955.3931881 + (52955.3931881 // 2048) *1 + int(2**((15530314 // 100000)-2))\n",
    "print(new_difficulty)"
   ]
  },
  {
   "cell_type": "code",
   "execution_count": 20,
   "id": "54699658",
   "metadata": {
    "execution": {
     "iopub.execute_input": "2022-06-21T11:43:34.265582Z",
     "iopub.status.busy": "2022-06-21T11:43:34.265167Z",
     "iopub.status.idle": "2022-06-21T11:43:34.270636Z",
     "shell.execute_reply": "2022-06-21T11:43:34.269461Z"
    },
    "papermill": {
     "duration": 0.024536,
     "end_time": "2022-06-21T11:43:34.273084",
     "exception": false,
     "start_time": "2022-06-21T11:43:34.248548",
     "status": "completed"
    },
    "tags": []
   },
   "outputs": [
    {
     "name": "stdout",
     "output_type": "stream",
     "text": [
      "3981608.51038\n"
     ]
    }
   ],
   "source": [
    "new_hash_rate = 3981608.51038 \n",
    "print(new_hash_rate)"
   ]
  },
  {
   "cell_type": "code",
   "execution_count": 21,
   "id": "f25dab18",
   "metadata": {
    "execution": {
     "iopub.execute_input": "2022-06-21T11:43:34.306569Z",
     "iopub.status.busy": "2022-06-21T11:43:34.305988Z",
     "iopub.status.idle": "2022-06-21T11:43:34.312065Z",
     "shell.execute_reply": "2022-06-21T11:43:34.310935Z"
    },
    "papermill": {
     "duration": 0.026038,
     "end_time": "2022-06-21T11:43:34.314976",
     "exception": false,
     "start_time": "2022-06-21T11:43:34.288938",
     "status": "completed"
    },
    "tags": []
   },
   "outputs": [
    {
     "name": "stdout",
     "output_type": "stream",
     "text": [
      "2.86768061497788e+39\n"
     ]
    }
   ],
   "source": [
    "new_block_time = new_difficulty/new_hash_rate\n",
    "print(new_block_time)\n",
    "# assuming constant hash rate for which this is too much hence, we cannot proceed like this\n",
    "# since it does not work like it should without assumptions."
   ]
  },
  {
   "cell_type": "markdown",
   "id": "ca4bbfc8",
   "metadata": {
    "papermill": {
     "duration": 0.015011,
     "end_time": "2022-06-21T11:43:34.345497",
     "exception": false,
     "start_time": "2022-06-21T11:43:34.330486",
     "status": "completed"
    },
    "tags": []
   },
   "source": [
    "# Plotting The Predicted Block Time After Bomb Goes Off"
   ]
  },
  {
   "cell_type": "code",
   "execution_count": 22,
   "id": "e7ad8ad6",
   "metadata": {
    "execution": {
     "iopub.execute_input": "2022-06-21T11:43:34.378290Z",
     "iopub.status.busy": "2022-06-21T11:43:34.377558Z",
     "iopub.status.idle": "2022-06-21T11:43:34.383607Z",
     "shell.execute_reply": "2022-06-21T11:43:34.382861Z"
    },
    "papermill": {
     "duration": 0.024337,
     "end_time": "2022-06-21T11:43:34.385616",
     "exception": false,
     "start_time": "2022-06-21T11:43:34.361279",
     "status": "completed"
    },
    "tags": []
   },
   "outputs": [],
   "source": [
    "import matplotlib.pyplot as plt\n",
    "import numpy as np\n",
    "# if using a Jupyter notebook, include:\n",
    "%matplotlib inline"
   ]
  },
  {
   "cell_type": "code",
   "execution_count": 23,
   "id": "ff9402f7",
   "metadata": {
    "execution": {
     "iopub.execute_input": "2022-06-21T11:43:34.418100Z",
     "iopub.status.busy": "2022-06-21T11:43:34.417681Z",
     "iopub.status.idle": "2022-06-21T11:43:34.422005Z",
     "shell.execute_reply": "2022-06-21T11:43:34.421161Z"
    },
    "papermill": {
     "duration": 0.023334,
     "end_time": "2022-06-21T11:43:34.424233",
     "exception": false,
     "start_time": "2022-06-21T11:43:34.400899",
     "status": "completed"
    },
    "tags": []
   },
   "outputs": [],
   "source": [
    "x = data_b1[\"Net_Hash_Value\"]\n",
    "y = data_b1[\"Difficulty_Value\"]"
   ]
  },
  {
   "cell_type": "code",
   "execution_count": 24,
   "id": "2c6d76fe",
   "metadata": {
    "execution": {
     "iopub.execute_input": "2022-06-21T11:43:34.457388Z",
     "iopub.status.busy": "2022-06-21T11:43:34.456991Z",
     "iopub.status.idle": "2022-06-21T11:43:34.685677Z",
     "shell.execute_reply": "2022-06-21T11:43:34.684514Z"
    },
    "papermill": {
     "duration": 0.248202,
     "end_time": "2022-06-21T11:43:34.688015",
     "exception": false,
     "start_time": "2022-06-21T11:43:34.439813",
     "status": "completed"
    },
    "tags": []
   },
   "outputs": [
    {
     "data": {
      "image/png": "[encoded data removed]",
      "text/plain": [
       "<Figure size 432x288 with 1 Axes>"
      ]
     },
     "metadata": {
      "needs_background": "light"
     },
     "output_type": "display_data"
    }
   ],
   "source": [
    "(plt.plot(x, y))\n",
    "plt.xlabel(\"Net_Hash_Value(GH/s)\")\n",
    "plt.ylabel(\"Difficulty_Value(GH)\")\n",
    "plt.legend([\"Ratio(s)\"])\n",
    "plt.show()"
   ]
  },
  {
   "cell_type": "code",
   "execution_count": 25,
   "id": "16ee7013",
   "metadata": {
    "execution": {
     "iopub.execute_input": "2022-06-21T11:43:34.721495Z",
     "iopub.status.busy": "2022-06-21T11:43:34.720918Z",
     "iopub.status.idle": "2022-06-21T11:43:34.731090Z",
     "shell.execute_reply": "2022-06-21T11:43:34.730324Z"
    },
    "papermill": {
     "duration": 0.029945,
     "end_time": "2022-06-21T11:43:34.733946",
     "exception": false,
     "start_time": "2022-06-21T11:43:34.704001",
     "status": "completed"
    },
    "tags": []
   },
   "outputs": [
    {
     "name": "stdout",
     "output_type": "stream",
     "text": [
      "[0.16391132471755476, -0.01941513374143966, 0.06249761699509193, -0.0035724106367265307, -0.3074733187951981, 0.14304309833001305, -0.08697336997366101, -0.14719349496677125, -0.0735024228702219, 0.38082798778434146, -0.00356906721535033, -0.02167925686280192, 0.2151857345486281, -0.04652282687944442, 0.2857373753500312, -0.17821411543373422, 0.5088270943027027, 0.5112693655810006, 0.3188736338193614, 0.5773399789945035, 0.4990878257404461, 0.4869189938468832, 0.4192268379597408, 0.37602514387247155, 0.4602661526102185, 0.29515264454868095, 0.304637291373556, 0.22221273340879044, 0.45297907879116117, 0.27628565202323685, 0.3450252250160144, 0.31649778504128, 0.20586748763541252, 0.525887773906998, 1.0575272019710784, 0.8862944606247005, 0.7742954322779667, 1.2488544564502888, 0.9403316970073412, 0.9791946568641823, 0.8504532167072085, 0.7970510130126218, 0.756631033696328, 0.8402651828127876, 0.8173544395518988, 0.6988633982832138, 0.6341393833324283, 0.7189175738096729, 0.688877960882671, 0.3378668810788472, 0.15234646887253867, 0.7189156358220874, 1.062756716004733, 1.8270792757007985, 1.3983327293350332, 1.5731690460988528, 1.2650106617007513, 1.4396063935915198, 1.2542348152164546, 1.3164385699822923, 1.3245753722387583, 1.073267749145888, 1.1658690765764774, 1.0391543770816725, 0.930008303684259, 0.966221051753724, 1.0078066560744627, 0.9326005161529203, 0.9351864917491497, 0.8072047032416148, 0.7515789204440697, 1.803914324761525, 2.158597991490126, 1.9380129879115735, 2.222297898585527, 1.9556793356163436, 2.0415978524054523, 1.815482074271948, 1.9527292257912663, 1.8532053797265036, 1.6408393108424093, 1.7664233406150025, 1.8677610911143887, 1.8794278677351954, 1.5844231771642665, 1.4313254148356744, 1.7808214403839724, 1.7205269084441372, 1.475548939448057, 1.6521755087345404, 1.7348457808962667, 3.34591520789758, 3.690420721748268, 3.7194494163379126, 3.8734026393153833, 3.87340107912717, 3.6110884671479724, 3.7158095360594743, 4.060199230674563, 3.7449116208611457, 3.3354741078441315, 3.3146250600237614, 3.832818698406605, 3.518249415613518, 3.3738206077596367, 3.6940337593868833, 3.214584632823616, 3.3285155499506445, 3.4792690328944076, 3.183772180774575, 3.3948013052928694, 3.2077214541269363, 3.6398590053268904, 5.880349700885763, 6.158650639912594, 6.295980389481414, 5.944599466068308, 6.0743500494801275, 5.981498320149356, 5.672137223289699, 5.640824161034065, 5.560789982119438, 5.775695794302287, 5.380882548169257, 5.393937891130669, 5.290020098050071, 5.298636951768497, 5.098147609212649, 4.770369213427848, 4.786689584527778, 5.0182747041675775, 4.819434228360095, 5.217081053952889, 4.644796906031189, 4.807144451027334, 4.750000426007588, 4.8030478922260755, 8.600051670404994, 8.929932365034531, 8.826947585560745, 9.046149556284785, 8.210800667249998, 8.383415631315021, 8.6177989976796, 8.564638630914224, 8.564636497116826, 8.85714043096948, 8.441560849453925, 8.205083760201969, 8.412451504362878, 8.153850271899142, 8.029580814716876, 8.302528552038776, 8.348677258204052, 8.55874277027256, 7.9791407462063795, 8.44738939410577, 7.990330287776221, 7.65956195181705, 7.928935558435391, 8.13681740344066, 8.216509423298081, 7.912245342066647, 8.17090276852467, 7.984728484764954, 13.101631671734204, 14.486643012929594, 13.59501549001418, 14.685255399566667, 14.033739824418625, 13.59501666595666, 14.430406546335753, 14.675739248819585, 14.524265941875818, 14.134155737900898, 14.189233642447888, 14.015568195900727, 13.763494857655093, 13.559808623455798, 14.32787164625745, 14.374383470228313, 14.01556176902384, 13.997411154866398, 13.45472129399495, 13.428570378579025, 13.61266002521548, 13.54223930520454, 13.754574971017469, 13.289954829769048]\n"
     ]
    }
   ],
   "source": [
    "delayL = []\n",
    "for i in range(620,809):\n",
    "    delayL.append((data_b1[\"Difficulty_Value\"][i]/data_b1[\"Net_Hash_Value\"][i])-14)\n",
    "    \n",
    "print(delayL)"
   ]
  },
  {
   "cell_type": "code",
   "execution_count": 26,
   "id": "006bce62",
   "metadata": {
    "execution": {
     "iopub.execute_input": "2022-06-21T11:43:34.767379Z",
     "iopub.status.busy": "2022-06-21T11:43:34.766973Z",
     "iopub.status.idle": "2022-06-21T11:43:34.775974Z",
     "shell.execute_reply": "2022-06-21T11:43:34.775202Z"
    },
    "papermill": {
     "duration": 0.02803,
     "end_time": "2022-06-21T11:43:34.778063",
     "exception": false,
     "start_time": "2022-06-21T11:43:34.750033",
     "status": "completed"
    },
    "tags": []
   },
   "outputs": [
    {
     "name": "stdout",
     "output_type": "stream",
     "text": [
      "             0\n",
      "0     0.163911\n",
      "1    -0.019415\n",
      "2     0.062498\n",
      "3    -0.003572\n",
      "4    -0.307473\n",
      "..         ...\n",
      "184  13.428570\n",
      "185  13.612660\n",
      "186  13.542239\n",
      "187  13.754575\n",
      "188  13.289955\n",
      "\n",
      "[189 rows x 1 columns]\n"
     ]
    }
   ],
   "source": [
    "# Import pandas package\n",
    "import pandas as pd\n",
    "\n",
    "# new dataframe for delay\n",
    "df = pd.DataFrame(delayL)\n",
    "print(df)"
   ]
  },
  {
   "cell_type": "code",
   "execution_count": 27,
   "id": "59e3e8a3",
   "metadata": {
    "execution": {
     "iopub.execute_input": "2022-06-21T11:43:34.811764Z",
     "iopub.status.busy": "2022-06-21T11:43:34.811360Z",
     "iopub.status.idle": "2022-06-21T11:43:35.037161Z",
     "shell.execute_reply": "2022-06-21T11:43:35.036286Z"
    },
    "papermill": {
     "duration": 0.245394,
     "end_time": "2022-06-21T11:43:35.039464",
     "exception": false,
     "start_time": "2022-06-21T11:43:34.794070",
     "status": "completed"
    },
    "tags": []
   },
   "outputs": [
    {
     "data": {
      "image/png": "[encoded data removed]",
      "text/plain": [
       "<Figure size 432x288 with 1 Axes>"
      ]
     },
     "metadata": {
      "needs_background": "light"
     },
     "output_type": "display_data"
    }
   ],
   "source": [
    "y = df\n",
    "(plt.plot(y))\n",
    "plt.xlabel(\"Days after Bomb Sighted\")\n",
    "plt.ylabel(\"Average Block Delay(s)\")\n",
    "plt.show()"
   ]
  },
  {
   "cell_type": "code",
   "execution_count": 28,
   "id": "6cefe671",
   "metadata": {
    "execution": {
     "iopub.execute_input": "2022-06-21T11:43:35.074129Z",
     "iopub.status.busy": "2022-06-21T11:43:35.073579Z",
     "iopub.status.idle": "2022-06-21T11:43:35.077649Z",
     "shell.execute_reply": "2022-06-21T11:43:35.076984Z"
    },
    "papermill": {
     "duration": 0.023998,
     "end_time": "2022-06-21T11:43:35.079654",
     "exception": false,
     "start_time": "2022-06-21T11:43:35.055656",
     "status": "completed"
    },
    "tags": []
   },
   "outputs": [],
   "source": [
    "df = df+13.3"
   ]
  },
  {
   "cell_type": "code",
   "execution_count": 29,
   "id": "ab944961",
   "metadata": {
    "execution": {
     "iopub.execute_input": "2022-06-21T11:43:35.113862Z",
     "iopub.status.busy": "2022-06-21T11:43:35.113327Z",
     "iopub.status.idle": "2022-06-21T11:43:35.342693Z",
     "shell.execute_reply": "2022-06-21T11:43:35.341801Z"
    },
    "papermill": {
     "duration": 0.248891,
     "end_time": "2022-06-21T11:43:35.344774",
     "exception": false,
     "start_time": "2022-06-21T11:43:35.095883",
     "status": "completed"
    },
    "tags": []
   },
   "outputs": [
    {
     "data": {
      "image/png": "[encoded data removed]",
      "text/plain": [
       "<Figure size 432x288 with 1 Axes>"
      ]
     },
     "metadata": {
      "needs_background": "light"
     },
     "output_type": "display_data"
    }
   ],
   "source": [
    "y = df\n",
    "(plt.plot(y))\n",
    "plt.xlabel(\"Days after Bomb Sighted\")\n",
    "plt.ylabel(\"Average Block Times(s)\")\n",
    "plt.show()"
   ]
  },
  {
   "cell_type": "markdown",
   "id": "457d834d",
   "metadata": {
    "papermill": {
     "duration": 0.016759,
     "end_time": "2022-06-21T11:43:35.378301",
     "exception": false,
     "start_time": "2022-06-21T11:43:35.361542",
     "status": "completed"
    },
    "tags": []
   },
   "source": [
    "The given DataFrame tells us what the predicted delays are supposed to be on average with dynamic changes \n",
    "\n",
    "The Data is modelled as for 200 days after including the day the bomb started showing up.\n",
    "\n",
    "Comments and Improvements would be appreciated"
   ]
  }
 ],
 "metadata": {
  "kernelspec": {
   "display_name": "Python 3",
   "language": "python",
   "name": "python3"
  },
  "language_info": {
   "codemirror_mode": {
    "name": "ipython",
    "version": 3
   },
   "file_extension": ".py",
   "mimetype": "text/x-python",
   "name": "python",
   "nbconvert_exporter": "python",
   "pygments_lexer": "ipython3",
   "version": "3.7.12"
  },
  "papermill": {
   "default_parameters": {},
   "duration": 17.376859,
   "end_time": "2022-06-21T11:43:36.116197",
   "environment_variables": {},
   "exception": null,
   "input_path": "__notebook__.ipynb",
   "output_path": "__notebook__.ipynb",
   "parameters": {},
   "start_time": "2022-06-21T11:43:18.739338",
   "version": "2.3.4"
  }
 },
 "nbformat": 4,
 "nbformat_minor": 5
}
